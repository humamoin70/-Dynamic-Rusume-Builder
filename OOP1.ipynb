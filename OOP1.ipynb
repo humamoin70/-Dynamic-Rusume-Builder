{
  "cells": [
    {
      "cell_type": "markdown",
      "metadata": {
        "id": "view-in-github",
        "colab_type": "text"
      },
      "source": [
        "<a href=\"https://colab.research.google.com/github/humamoin70/-Dynamic-Rusume-Builder/blob/main/OOP1.ipynb\" target=\"_parent\"><img src=\"https://colab.research.google.com/assets/colab-badge.svg\" alt=\"Open In Colab\"/></a>"
      ]
    },
    {
      "cell_type": "code",
      "execution_count": null,
      "metadata": {
        "id": "HepQaqsmKPwN"
      },
      "outputs": [],
      "source": []
    },
    {
      "cell_type": "markdown",
      "metadata": {
        "id": "JCGB8n-1JN4Y"
      },
      "source": [
        "Using self Assignment:\n",
        "\n",
        "1.Create a class student with attributes name and marks.use the self keyword to initialize thesse values via a constructor.Add amethod display() that prints student details.\n"
      ]
    },
    {
      "cell_type": "markdown",
      "metadata": {
        "id": "dYlzPqlnLC2n"
      },
      "source": []
    },
    {
      "cell_type": "markdown",
      "metadata": {
        "id": "4xCXw3SuWSEd"
      },
      "source": []
    },
    {
      "cell_type": "code",
      "execution_count": null,
      "metadata": {
        "colab": {
          "base_uri": "https://localhost:8080/"
        },
        "id": "lUnz6MSFuxJe",
        "outputId": "539dac99-aefd-486e-8007-200da23a0e06"
      },
      "outputs": [
        {
          "name": "stdout",
          "output_type": "stream",
          "text": [
            "Student Name: Zain\n",
            "Marks: 99\n",
            "Student Name: Huma\n",
            "Marks: 98\n"
          ]
        }
      ],
      "source": [
        "class Student:\n",
        "    def __init__(self, name, marks):\n",
        "        self.name = name     #Using self to assign instance varibles\n",
        "        self.marks = marks\n",
        "\n",
        "    def display(self):\n",
        "         print(\"Student Name:\",self.name)\n",
        "         print(\"Marks:\",self.marks)\n",
        "# Example usage :\n",
        "student1 = Student(\"Zain\", 99)\n",
        "student1.display()\n",
        "\n",
        "student2 = Student(\"Huma\",98)\n",
        "student2.display()"
      ]
    },
    {
      "cell_type": "markdown",
      "metadata": {
        "id": "3kt8hZOaWcJt"
      },
      "source": [
        "Using cls\n",
        "Assignment:\n",
        "\n",
        "2.Create a class Counter that keeps track of how many objects have been created. Use a class variable and a class method with cls to manage and display the count."
      ]
    },
    {
      "cell_type": "code",
      "execution_count": null,
      "metadata": {
        "colab": {
          "base_uri": "https://localhost:8080/"
        },
        "id": "_Nd0DP3aWfFn",
        "outputId": "6d868931-2a4d-44f9-8c70-6ba03cb45620"
      },
      "outputs": [
        {
          "name": "stdout",
          "output_type": "stream",
          "text": [
            "Total objects created: 3\n"
          ]
        }
      ],
      "source": [
        "class Counter:\n",
        "    object_count = 0  # class variable\n",
        "\n",
        "    def __init__(self):\n",
        "         # Har object banne par count barh jaayga\n",
        "        Counter.object_count += 1\n",
        "\n",
        "    @classmethod\n",
        "    def display_count(cls):\n",
        "        print(\"Total objects created:\", cls.object_count)\n",
        "# Teen object create kiye\n",
        "obj1 = Counter()\n",
        "obj2 = Counter()\n",
        "obj3 = Counter()\n",
        "\n",
        "# Total objects created: 3\n",
        "Counter.display_count()"
      ]
    },
    {
      "cell_type": "markdown",
      "metadata": {
        "id": "Xh8XvINdcl_U"
      },
      "source": [
        "Public Variables and Methods\n",
        "Assignment:\n",
        "\n",
        "3.Create a class Car with a public variable brand and a public method start(). Instantiate the class and access both from outside the class.\n",
        "\n"
      ]
    },
    {
      "cell_type": "code",
      "execution_count": null,
      "metadata": {
        "colab": {
          "base_uri": "https://localhost:8080/"
        },
        "id": "fbofCl5SdOe0",
        "outputId": "e11268dc-379a-472f-99ea-88377d6cd619"
      },
      "outputs": [
        {
          "name": "stdout",
          "output_type": "stream",
          "text": [
            "Car brand: Toyota\n",
            "Toyota car is starting...\n"
          ]
        }
      ],
      "source": [
        "class Car:\n",
        "   def __init__(self,brand):\n",
        "      self.brand = brand  # Public variable\n",
        "   def start(self): # Public method\n",
        "       print(f\"{self.brand} car is starting...\")\n",
        "\n",
        "# Object bana rehy hain\n",
        "my_car = Car(\"Toyota\")\n",
        "\n",
        "#Public variabla access\n",
        "print(\"Car brand:\",my_car.brand)\n",
        "\n",
        "#Public method call\n",
        "my_car.start()\n",
        "\n"
      ]
    },
    {
      "cell_type": "markdown",
      "metadata": {
        "id": "4bye-zuNf5ZR"
      },
      "source": [
        "4. Class Variables and Class Methods\n",
        "Assignment:\n",
        "Create a class Bank with a class variable bank_name. Add a class method change_bank_name(cls, name) that allows changing the bank name. Show that it affects all instances.\n",
        "\n"
      ]
    },
    {
      "cell_type": "code",
      "execution_count": null,
      "metadata": {
        "colab": {
          "base_uri": "https://localhost:8080/"
        },
        "id": "r97c3nT_gOng",
        "outputId": "ce33cce9-8e25-47cd-d5f5-60191ac59bdf"
      },
      "outputs": [
        {
          "name": "stdout",
          "output_type": "stream",
          "text": [
            "Account Holder:Zain, Bank:Default Bank\n",
            "Account Holder:Huma, Bank:Default Bank\n",
            "Account Holder:Zain, Bank:Pakistan National Bank \n",
            "Account Holder:Huma, Bank:Pakistan National Bank \n"
          ]
        }
      ],
      "source": [
        "class Bank:\n",
        "    bank_name = \"Default Bank\" # Class variable\n",
        "    def __init__ (self,account_holder):\n",
        "        self.account_holder = account_holder\n",
        "\n",
        "    @classmethod\n",
        "    def change_bank_name(cls,name):\n",
        "        cls.bank_name = name # Updating class variable\n",
        "\n",
        "    def display(self):\n",
        "        print(f\"Account Holder:{self.account_holder}, Bank:{Bank.bank_name}\")\n",
        "# Object creation\n",
        "user1 = Bank(\"Zain\")\n",
        "user2 = Bank(\"Huma\")\n",
        "\n",
        "# Pehly dono ka bank name check karo\n",
        "user1.display()\n",
        "user2.display()\n",
        "\n",
        "#Class method se bank name change karo\n",
        "Bank.change_bank_name(\"Pakistan National Bank \")\n",
        "\n",
        "# Ab dono ka bank name dobara check karo\n",
        "user1.display()\n",
        "user2.display()\n",
        "\n",
        "\n"
      ]
    },
    {
      "cell_type": "markdown",
      "metadata": {
        "id": "tJDNzsMYj0_r"
      },
      "source": [
        "Static Variables and Static Methods Assignment:\n",
        "\n",
        "5. Create a class MathUtils with a static method add(a, b) that returns the sum. No class or instance variables should be used.\n",
        "\n"
      ]
    },
    {
      "cell_type": "code",
      "execution_count": null,
      "metadata": {
        "colab": {
          "base_uri": "https://localhost:8080/"
        },
        "id": "1bFNgWot2E4M",
        "outputId": "63e30e0d-a9df-4a60-af48-1f496497fc3a"
      },
      "outputs": [
        {
          "name": "stdout",
          "output_type": "stream",
          "text": [
            "The sum is: 25\n"
          ]
        }
      ],
      "source": [
        "class MathUtils:\n",
        "\n",
        "    @staticmethod\n",
        "    def add(a, b):\n",
        "        return a + b\n",
        "\n",
        "# Static method call (no object neeeded)\n",
        "result = MathUtils.add(10, 15)\n",
        "print(\"The sum is:\", result)"
      ]
    },
    {
      "cell_type": "markdown",
      "metadata": {
        "id": "OC2xOfo24850"
      },
      "source": [
        "6. Constructors and Destructors\n",
        "Assignment:\n",
        "\n",
        "6.Create a class Logger that prints a message when an object is created (constructor) and another message when it is destroyed (destructor).\n",
        "\n"
      ]
    },
    {
      "cell_type": "code",
      "execution_count": null,
      "metadata": {
        "colab": {
          "base_uri": "https://localhost:8080/"
        },
        "id": "TBmehacq5FU3",
        "outputId": "57334590-fd5b-44e5-8325-1961602f77c9"
      },
      "outputs": [
        {
          "name": "stdout",
          "output_type": "stream",
          "text": [
            "Logger object has been created!\n",
            "Logger object has been destroyed!\n",
            "Logger object has been created!\n",
            "Logger object has been destroyed!\n"
          ]
        }
      ],
      "source": [
        "class Logger:\n",
        "  # Constructor\n",
        "  def __init__(self):\n",
        "      print(\"Logger object has been created!\")\n",
        "\n",
        "   # Destructor\n",
        "  def __del__(self):\n",
        "      print(\"Logger object has been destroyed!\")\n",
        "  # Create an object of Logger class\n",
        "logger1 =Logger()\n",
        "\n",
        "  # Destroy the object explicitly to invoke the destructor\n",
        "del logger1\n",
        "\n",
        "# Object creation\n",
        "logger = Logger()\n",
        "\n",
        "# Object destruction\n",
        "del logger\n"
      ]
    },
    {
      "cell_type": "markdown",
      "metadata": {
        "id": "odeI0Mrf7WXS"
      },
      "source": [
        "7. Access Modifiers: Public, Private, and Protected\n",
        "Assignment:\n",
        "Create a class Employee with:\n",
        "\n",
        "a public variable name,\n",
        "\n",
        "a protected variable _salary, and\n",
        "\n",
        "a private variable __ssn.\n",
        "\n",
        "Try accessing all three variables from an object of the class and document what happens."
      ]
    },
    {
      "cell_type": "code",
      "execution_count": null,
      "metadata": {
        "colab": {
          "base_uri": "https://localhost:8080/"
        },
        "id": "Pg9m3rCZ7YVt",
        "outputId": "e5e9edac-d518-42cf-8f3f-43322ce3246d"
      },
      "outputs": [
        {
          "name": "stdout",
          "output_type": "stream",
          "text": [
            "Name: Asad \n",
            "Salary: 50000\n",
            "Error: 'Employee' object has no attribute '__ssn'\n",
            "SSN(via name mangling): 123-45-6789\n"
          ]
        }
      ],
      "source": [
        "class Employee:\n",
        "  # Public variable\n",
        "  name = \"Asad \"\n",
        "\n",
        "  # Protected variable\n",
        "  _salary = 50000\n",
        "\n",
        "  #Private variable\n",
        "  __ssn = \"123-45-6789\"\n",
        "\n",
        " # Creating an object of Employee class\n",
        "emp = Employee()\n",
        "\n",
        " # Accessing the public variable\n",
        "print(\"Name:\", emp.name)\n",
        "\n",
        "# Accessing the protected variable\n",
        "print(\"Salary:\", emp._salary)\n",
        "\n",
        "# Accessing the private variable(This will raise an error)\n",
        "try:\n",
        "   print(\"SSN:\", emp.__ssn)\n",
        "except AttributeError as e:\n",
        "   print(\"Error:\", e)\n",
        "# Accesssing the private variable via name mangling\n",
        "print(\"SSN(via name mangling):\",emp._Employee__ssn)\n"
      ]
    },
    {
      "cell_type": "markdown",
      "metadata": {
        "id": "Jt4QviL__NgR"
      },
      "source": [
        "8. The super() Function\n",
        "Assignment:\n",
        "Create a class Person with a constructor that sets the name. Inherit a class Teacher from it, add a subject field, and use super() to call the base class constructor."
      ]
    },
    {
      "cell_type": "code",
      "execution_count": null,
      "metadata": {
        "colab": {
          "base_uri": "https://localhost:8080/"
        },
        "id": "tQo93yHq_SqE",
        "outputId": "cc5f6ebd-172d-4766-ef14-7fe62da7f77b"
      },
      "outputs": [
        {
          "name": "stdout",
          "output_type": "stream",
          "text": [
            "Name:Mr.ALi jawwad\n",
            "Subject:Mathematics\n"
          ]
        }
      ],
      "source": [
        "# Base class Person\n",
        "class Person:\n",
        "    def __init__(self, name):\n",
        "        self.name = name\n",
        "# Derived class Teacher\n",
        "class Teacher(Person):\n",
        "   def __init__(self,name,subject):\n",
        "    # Calling the base class constructor super()\n",
        "    super().__init__(name)\n",
        "    self.subject = subject\n",
        "   def display(self):\n",
        "    print(f\"Name:{self.name}\")\n",
        "    print(f\"Subject:{self.subject}\")\n",
        "# Teacher class ka object bana rehe hain\n",
        "teacher = Teacher(\"Mr.ALi jawwad\",\"Mathematics\")\n",
        "# Teacher ka details dislpay kr rahy hain\n",
        "teacher.display()"
      ]
    },
    {
      "cell_type": "markdown",
      "metadata": {
        "id": "vel1X0PBex0X"
      },
      "source": [
        "9. Abstract Classes and Methods\n",
        "Assignment:\n",
        "Use the abc module to create an abstract class Shape with an abstract method area(). Inherit a class Rectangle that implements area()."
      ]
    },
    {
      "cell_type": "code",
      "execution_count": null,
      "metadata": {
        "colab": {
          "base_uri": "https://localhost:8080/"
        },
        "id": "-zYEHWQTe0uR",
        "outputId": "0e9c3634-4b3f-4619-b149-119f466d833f"
      },
      "outputs": [
        {
          "name": "stdout",
          "output_type": "stream",
          "text": [
            "Area of the Rectangle:50\n"
          ]
        }
      ],
      "source": [
        "from abc import ABC, abstractmethod\n",
        "\n",
        "# Abstract class Shape\n",
        "class Shape(ABC):\n",
        "    @abstractmethod\n",
        "    def area(self):\n",
        "        pass\n",
        "\n",
        "# Class Rectangle that inherits from shape and implements the area method\n",
        "class Rectangle(Shape):\n",
        "    def __init__(self, width, height):\n",
        "        self.width = width\n",
        "        self.height = height\n",
        "\n",
        "    def area(self):\n",
        "        return self.width * self.height\n",
        "\n",
        "# Creating an object of Rectangle and calling the area method\n",
        "rect = Rectangle(5, 10)\n",
        "print(f\"Area of the Rectangle:{rect.area()}\")\n"
      ]
    },
    {
      "cell_type": "markdown",
      "metadata": {
        "id": "lT9pi-PciF7-"
      },
      "source": [
        "10. Instance Methods\n",
        "Assignment:\n",
        "Create a class Dog with instance variables name and breed. Add an instance method bark() that prints a message including the dog's name.\n"
      ]
    },
    {
      "cell_type": "code",
      "execution_count": null,
      "metadata": {
        "colab": {
          "base_uri": "https://localhost:8080/"
        },
        "id": "Ija6-qEkiO4p",
        "outputId": "4b4468d7-a653-40b1-811d-e5ccc882ca24"
      },
      "outputs": [
        {
          "name": "stdout",
          "output_type": "stream",
          "text": [
            "Buddy says woof!\n"
          ]
        }
      ],
      "source": [
        "class Dog:\n",
        "  def __init__(self,name,breed):\n",
        "    # Instance variables\n",
        "    self.name = name\n",
        "    self.breed = breed\n",
        "  def bark(self):\n",
        "    # Instance meathod that prints a message with the dog's name\n",
        "       print(f\"{self.name} says woof!\")\n",
        "\n",
        "    # Creatig the object of the dog class\n",
        "my_dog = Dog(\"Buddy\",\"Golden Retriever\")\n",
        "\n",
        "    # Calling the instance method bark()\n",
        "my_dog.bark()\n"
      ]
    },
    {
      "cell_type": "markdown",
      "metadata": {
        "id": "U4P4tus3mbIG"
      },
      "source": [
        "11. Class Methods\n",
        "Assignment:\n",
        "Create a class Book with a class variable total_books. Add a class method increment_book_count() to increase the count when a new book is added."
      ]
    },
    {
      "cell_type": "code",
      "execution_count": null,
      "metadata": {
        "colab": {
          "base_uri": "https://localhost:8080/"
        },
        "id": "q7QEoQilmhdq",
        "outputId": "dd7cbba7-74bc-40f2-8498-e04f88de815a"
      },
      "outputs": [
        {
          "name": "stdout",
          "output_type": "stream",
          "text": [
            "Total Books:1\n"
          ]
        }
      ],
      "source": [
        "class Book:\n",
        "  # Class variable to track the total number of books\n",
        "  total_books = 0\n",
        "\n",
        "  # Class method to increment the book count\n",
        "  @classmethod\n",
        "  def increment_book_count(cls):\n",
        "    # Increment the total_books count when a new book is added\n",
        "    cls.total_books += 1\n",
        "\n",
        "  def __init__(self,title,author):\n",
        "    # Instance variables\n",
        "     self.title = title\n",
        "     self.author = author\n",
        "    #  Call the class mrthod to Increment the book count when a new book is created\n",
        "Book.increment_book_count()\n",
        "\n",
        "# Creating a new book objects\n",
        "book1 = Book(\"The Great Gatsby\",\"F. Scott Fitzgerald\")\n",
        "book2 = Book(\"1984\", \"George Orwell\")\n",
        "# Accessing the class variable\n",
        "print (f\"Total Books:{Book.total_books}\")\n"
      ]
    },
    {
      "cell_type": "markdown",
      "metadata": {
        "id": "CNfliqBa3iv_"
      },
      "source": [
        "12. Static Methods\n",
        "Assignment:\n",
        "Create a class TemperatureConverter with a static method celsius_to_fahrenheit(c) that returns the Fahrenheit value."
      ]
    },
    {
      "cell_type": "code",
      "execution_count": null,
      "metadata": {
        "colab": {
          "base_uri": "https://localhost:8080/"
        },
        "id": "iAWijJyrxtfy",
        "outputId": "592661cf-593c-4244-c7f8-6770f1a1df05"
      },
      "outputs": [
        {
          "name": "stdout",
          "output_type": "stream",
          "text": [
            "25 degrees Celsius is equal to 77.0 degrees Fahrenheit.\n"
          ]
        }
      ],
      "source": [
        "class TemperatureConverter:\n",
        "\n",
        "  @staticmethod\n",
        "  def celsius_to_fahrenheit(c):\n",
        "    # Static method to convert Celsius to Fahrenheit\n",
        "    return (c * 9/5) + 32\n",
        "# Calling the static method without creating an intance of the class\n",
        "celsius = 25\n",
        "fahrenheit = TemperatureConverter.celsius_to_fahrenheit(celsius)\n",
        "print(f\"{celsius} degrees Celsius is equal to {fahrenheit} degrees Fahrenheit.\")"
      ]
    },
    {
      "cell_type": "markdown",
      "metadata": {
        "id": "K7wYAUVG4sHf"
      },
      "source": [
        "13. Composition\n",
        "Assignment:\n",
        "Create a class Engine and a class Car. Use composition by passing an Engine object to the Car class during initialization. Access a method of the Engine class via the Car class."
      ]
    },
    {
      "cell_type": "code",
      "execution_count": null,
      "metadata": {
        "colab": {
          "base_uri": "https://localhost:8080/"
        },
        "id": "Xg5MQ3zb4wa6",
        "outputId": "934bf87b-b4bd-44b8-ec28-941de91a5cf7"
      },
      "outputs": [
        {
          "name": "stdout",
          "output_type": "stream",
          "text": [
            "Ford car is starting. The V8 engine is starting.\n"
          ]
        }
      ],
      "source": [
        "class Engine:\n",
        "   def __init__(self, engine_type):\n",
        "      self.engine_type = engine_type\n",
        "\n",
        "   def start(self):\n",
        "        return f\"The {self.engine_type} engine is starting.\"\n",
        "class Car:\n",
        "   def __init__(self,brand, engine):\n",
        "        self.brand = brand\n",
        "        # Composition: Passing an Engine object to the Car class\n",
        "        self.engine = engine\n",
        "\n",
        "   def start_car(self):\n",
        "        # Accessing the start method of the Engine class via the Car class\n",
        "        return f\"{self.brand} car is starting. {self.engine.start()}\"\n",
        "# Creating an Engine object\n",
        "engine = Engine(\"V8\")\n",
        "\n",
        "# Creating an car object and passing the Engine object to it\n",
        "car = Car(\"Ford\", engine)\n",
        "\n",
        "# Calling the start_car method which uses the Engine's start method\n",
        "print(car.start_car())"
      ]
    },
    {
      "cell_type": "markdown",
      "metadata": {
        "id": "CKhyLI8a8ta7"
      },
      "source": [
        "14. Aggregation\n",
        "Assignment:\n",
        "Create a class Department and a class Employee. Use aggregation by having a Department object store a reference to an Employee object that exists independently of it."
      ]
    },
    {
      "cell_type": "code",
      "execution_count": null,
      "metadata": {
        "colab": {
          "base_uri": "https://localhost:8080/"
        },
        "id": "XJwzjKLa8y36",
        "outputId": "28b63740-7682-42c6-aa55-02c8ca904dad"
      },
      "outputs": [
        {
          "name": "stdout",
          "output_type": "stream",
          "text": [
            "Department: IT Department, Employee: Employee Name: Huma Moin, Position: Software Engineer\n"
          ]
        }
      ],
      "source": [
        "class Employee:\n",
        "   def __init__ (self, name, position):\n",
        "        self.name = name\n",
        "        self.position = position\n",
        "\n",
        "   def get_employee_info(self):\n",
        "            return f\"Employee Name: {self.name}, Position: {self.position}\"\n",
        "\n",
        "class Department:\n",
        "    def __init__(self, department_name, employee):\n",
        "        self.department_name = department_name\n",
        "\n",
        "        # Aggregation: Storring a reference to an Employee object\n",
        "        self.employee = employee\n",
        "\n",
        "    def get_department_info(self):\n",
        "       return f\"Department: {self.department_name}, Employee: {self.employee.get_employee_info()}\"\n",
        "\n",
        "    # Creating an Employee object\n",
        "employee1 = Employee(\"Huma Moin\", \"Software Engineer\")\n",
        "\n",
        "     # Creating a Deartment object and passing the Employee object\n",
        "department1 = Department(\"IT Department\", employee1)\n",
        "\n",
        "       # Calling a method to get the department and employee info\n",
        "print(department1.get_department_info())\n",
        "\n",
        "\n",
        "\n"
      ]
    },
    {
      "cell_type": "markdown",
      "metadata": {
        "id": "avc3QS3r-jF7"
      },
      "source": [
        "15. Method Resolution Order (MRO) and Diamond Inheritance\n",
        "Assignment:\n",
        "Create four classes:\n",
        "\n",
        "A with a method show(),\n",
        "\n",
        "B and C that inherit from A and override show(),\n",
        "\n",
        "D that inherits from both B and C.\n",
        "\n",
        "Create an object of D and call show() to observe MRO."
      ]
    },
    {
      "cell_type": "code",
      "execution_count": null,
      "metadata": {
        "colab": {
          "base_uri": "https://localhost:8080/"
        },
        "id": "0Ap11zNN-l-J",
        "outputId": "a1f1331a-ecff-4ad0-84b4-ed53821f56ea"
      },
      "outputs": [
        {
          "name": "stdout",
          "output_type": "stream",
          "text": [
            "Method from class B\n",
            "[<class '__main__.D'>, <class '__main__.B'>, <class '__main__.C'>, <class '__main__.A'>, <class 'object'>]\n"
          ]
        }
      ],
      "source": [
        "class A:\n",
        "    def show(self):\n",
        "        print(\"Method from class A\")\n",
        "\n",
        "class B(A):\n",
        "    def show(self):\n",
        "        print(\"Method from class B\")\n",
        "class C(A):\n",
        "      def show(self):\n",
        "        print(\"Methodmfrom class C\")\n",
        "\n",
        "class D(B, C):\n",
        "      pass\n",
        "# Creating an objrct of class D\n",
        "d = D()\n",
        "  # Calling the show method to observe the Method Resolution Order(MRO)\n",
        "d.show()\n",
        "# printing the MRO to observe the order\n",
        "print(D.mro())"
      ]
    },
    {
      "cell_type": "markdown",
      "metadata": {
        "id": "aca4_jI6C4Yr"
      },
      "source": [
        "16. Function Decorators\n",
        "Assignment:\n",
        "Write a decorator function log_function_call that prints \"Function is being called\" before a function executes. Apply it to a function say_hello()."
      ]
    },
    {
      "cell_type": "code",
      "execution_count": null,
      "metadata": {
        "colab": {
          "base_uri": "https://localhost:8080/"
        },
        "id": "XQfWD5CCC6n6",
        "outputId": "707077d1-0cfc-4f80-a3b9-89e70bc45440"
      },
      "outputs": [
        {
          "name": "stdout",
          "output_type": "stream",
          "text": [
            "Function is being called\n",
            "Hello, World!\n"
          ]
        }
      ],
      "source": [
        "# Decorated function\n",
        "def log_function_call(func):\n",
        "    def wrapper():\n",
        "        print(\"Function is being called\")\n",
        "        return func()# Call the original function\n",
        "    return wrapper\n",
        "# Function to be decorated\n",
        "@log_function_call\n",
        "def say_hello():\n",
        "    print(\"Hello, World!\")\n",
        "# Calling the decorated function\n",
        "say_hello()"
      ]
    },
    {
      "cell_type": "markdown",
      "metadata": {
        "id": "kOwSMy8cEvGg"
      },
      "source": [
        "17. Class Decorators\n",
        "Assignment:\n",
        "Create a class decorator add_greeting that modifies a class to add a greet() method returning \"Hello from Decorator!\". Apply it to a class Person."
      ]
    },
    {
      "cell_type": "code",
      "execution_count": null,
      "metadata": {
        "colab": {
          "base_uri": "https://localhost:8080/"
        },
        "id": "eDgq6XbRExND",
        "outputId": "a9d08434-37c5-47ae-a422-4ee8f8ad47a6"
      },
      "outputs": [
        {
          "name": "stdout",
          "output_type": "stream",
          "text": [
            "Hello from Decorator!\n"
          ]
        }
      ],
      "source": [
        "# class decorator\n",
        "def add_greeting(cls):\n",
        "    def greet(self):\n",
        "        return \"Hello from Decorator!\"\n",
        "        # Add the greet method to the class\n",
        "    cls.greet = greet\n",
        "    return cls\n",
        "    # Applying the class decorator to the person class\n",
        "@add_greeting\n",
        "class Person:\n",
        "   def __init__(self, name):\n",
        "        self.name = name\n",
        "   def introduce(self):\n",
        "     return f\"Hi,I' m{self.name}\"\n",
        "\n",
        "# Creating an instance of the Person class\n",
        "person = Person(\"Alice\")\n",
        "\n",
        "    # Calling the greet method\n",
        "print(person.greet())"
      ]
    },
    {
      "cell_type": "markdown",
      "metadata": {
        "id": "kfe1qIE_RGwf"
      },
      "source": [
        "18. Property Decorators: @property, @setter, and @deleter\n",
        "Assignment:\n",
        "Create a class Product with a private attribute _price. Use @property to get the price, @price.setter to update it, and @price.deleter to delete it.\n",
        "\n"
      ]
    },
    {
      "cell_type": "code",
      "execution_count": null,
      "metadata": {
        "colab": {
          "base_uri": "https://localhost:8080/",
          "height": 384
        },
        "id": "p6latRAQRH4Y",
        "outputId": "e382a9b9-38b6-404b-dfea-bdf0319d7000"
      },
      "outputs": [
        {
          "name": "stdout",
          "output_type": "stream",
          "text": [
            "1000\n",
            "1200\n",
            "Price cannot be negative!\n",
            "Deleting the price of Laptop\n",
            "Deleting the price of Laptop\n"
          ]
        },
        {
          "ename": "AttributeError",
          "evalue": "'Product' object has no attribute '_price'",
          "output_type": "error",
          "traceback": [
            "\u001b[0;31m---------------------------------------------------------------------------\u001b[0m",
            "\u001b[0;31mAttributeError\u001b[0m                            Traceback (most recent call last)",
            "\u001b[0;32m<ipython-input-56-2dfaedc93ecd>\u001b[0m in \u001b[0;36m<cell line: 0>\u001b[0;34m()\u001b[0m\n\u001b[1;32m     38\u001b[0m \u001b[0;32mdel\u001b[0m \u001b[0mproduct\u001b[0m\u001b[0;34m.\u001b[0m\u001b[0mprice\u001b[0m \u001b[0;31m# Output: Deleting the price of Laptop\u001b[0m\u001b[0;34m\u001b[0m\u001b[0;34m\u001b[0m\u001b[0m\n\u001b[1;32m     39\u001b[0m \u001b[0;31m# Trying to delete the price\u001b[0m\u001b[0;34m\u001b[0m\u001b[0;34m\u001b[0m\u001b[0m\n\u001b[0;32m---> 40\u001b[0;31m \u001b[0;32mdel\u001b[0m \u001b[0mproduct\u001b[0m\u001b[0;34m.\u001b[0m\u001b[0mprice\u001b[0m\u001b[0;34m\u001b[0m\u001b[0;34m\u001b[0m\u001b[0m\n\u001b[0m",
            "\u001b[0;32m<ipython-input-56-2dfaedc93ecd>\u001b[0m in \u001b[0;36mprice\u001b[0;34m(self)\u001b[0m\n\u001b[1;32m     21\u001b[0m     \u001b[0;32mdef\u001b[0m \u001b[0mprice\u001b[0m\u001b[0;34m(\u001b[0m\u001b[0mself\u001b[0m\u001b[0;34m)\u001b[0m\u001b[0;34m:\u001b[0m\u001b[0;34m\u001b[0m\u001b[0;34m\u001b[0m\u001b[0m\n\u001b[1;32m     22\u001b[0m         \u001b[0mprint\u001b[0m\u001b[0;34m(\u001b[0m\u001b[0;34mf\"Deleting the price of {self.name}\"\u001b[0m\u001b[0;34m)\u001b[0m\u001b[0;34m\u001b[0m\u001b[0;34m\u001b[0m\u001b[0m\n\u001b[0;32m---> 23\u001b[0;31m         \u001b[0;32mdel\u001b[0m \u001b[0mself\u001b[0m\u001b[0;34m.\u001b[0m\u001b[0m_price\u001b[0m\u001b[0;34m\u001b[0m\u001b[0;34m\u001b[0m\u001b[0m\n\u001b[0m\u001b[1;32m     24\u001b[0m \u001b[0;34m\u001b[0m\u001b[0m\n\u001b[1;32m     25\u001b[0m \u001b[0;31m# Creating a Product object\u001b[0m\u001b[0;34m\u001b[0m\u001b[0;34m\u001b[0m\u001b[0m\n",
            "\u001b[0;31mAttributeError\u001b[0m: 'Product' object has no attribute '_price'"
          ]
        }
      ],
      "source": [
        "class Product:\n",
        "    def __init__(self, name, price):\n",
        "        self.name = name\n",
        "        self._price = price # Private  attribute\n",
        "  # Getter for the price attribute\n",
        "    @property\n",
        "    def price(self):\n",
        "        return self._price\n",
        "\n",
        "  # Setter to update the price attribute\n",
        "    @price.setter\n",
        "    def price(self, value):\n",
        "        if value < 0:\n",
        "            print(\"Price cannot be negative!\")\n",
        "        else:\n",
        "            self._price = value\n",
        "\n",
        "  # Deleter to delete the price attribute\n",
        "\n",
        "    @price.deleter\n",
        "    def price(self):\n",
        "        print(f\"Deleting the price of {self.name}\")\n",
        "        del self._price\n",
        "\n",
        "# Creating a Product object\n",
        "product = Product(\"Laptop\", 1000)\n",
        "\n",
        "# Accessing the price using the @property\n",
        "print(product.price) # Output: 1000\n",
        "\n",
        "# Updating the price using the @price.setter\n",
        "product.price = 1200\n",
        "print(product.price) # Output: 1200\n",
        "\n",
        "# Trying to set a negative price\n",
        "product.price = -500 # Output: Price cannot be negative!\n",
        " #Deleting the price\n",
        "del product.price # Output: Deleting the price of Laptop\n",
        "# Trying to delete the price\n",
        "del product.price"
      ]
    },
    {
      "cell_type": "markdown",
      "metadata": {
        "id": "181pznkwc8RX"
      },
      "source": [
        "9. callable() and __call__()\n",
        "Assignment:\n",
        "Create a class Multiplier with an __init__() to set a factor. Define a __call__() method that multiplies an input by the factor. Test it with callable() and by calling the object like a function."
      ]
    },
    {
      "cell_type": "code",
      "execution_count": null,
      "metadata": {
        "colab": {
          "base_uri": "https://localhost:8080/"
        },
        "id": "TqOz-8qIc-yP",
        "outputId": "fb547512-bc26-4b49-a2c2-6650a7784fc2"
      },
      "outputs": [
        {
          "name": "stdout",
          "output_type": "stream",
          "text": [
            "True\n",
            "50\n"
          ]
        }
      ],
      "source": [
        "class Multiplier:\n",
        "    def __init__(self, factor):\n",
        "        self.factor = factor # Selecting the factor\n",
        "\n",
        "    def __call__(self, number):\n",
        "      # This method allows the object to be called like a function\n",
        "        return number * self.factor\n",
        "\n",
        "# Creating an instance of the Multiplier with a factor of 5\n",
        "multiplier = Multiplier(5)\n",
        "# Testing with callable()  to check if the object is callable\n",
        "print(callable(multiplier)) # Output: True\n",
        "\n",
        "# Calling the object like a function\n",
        "result = multiplier(10)\n",
        "print(result) # Output: 50"
      ]
    },
    {
      "cell_type": "markdown",
      "metadata": {
        "id": "G7wl3K5zeV_G"
      },
      "source": [
        "20. Creating a Custom Exception\n",
        "Assignment:\n",
        "Create a custom exception InvalidAgeError. Write a function check_age(age) that raises this exception if age < 18. Handle it with try...except."
      ]
    },
    {
      "cell_type": "code",
      "execution_count": null,
      "metadata": {
        "colab": {
          "base_uri": "https://localhost:8080/"
        },
        "id": "6ATvLoHdeYva",
        "outputId": "75179561-957b-401e-9606-bd35fd1cdd8a"
      },
      "outputs": [
        {
          "name": "stdout",
          "output_type": "stream",
          "text": [
            "Enter your age: 30\n",
            "Age: 30 is valid!\n"
          ]
        }
      ],
      "source": [
        "#custom exception\n",
        "class InvalidAgeError(Exception):\n",
        "    def __init__(self, message= \"Age must be 18 or older\"):\n",
        "        self.message = message\n",
        "        super().__init__(self.message)\n",
        "\n",
        "# Function to check age\n",
        "def check_age(age):\n",
        "    if age < 18:\n",
        "        raise InvalidAgeError(f\"Invalid age: {age}. you must be 18 or older\")\n",
        "    else:\n",
        "        print(f\"Age: {age} is valid!\")\n",
        "\n",
        "# Handling the exeception using try ... except\n",
        "try:\n",
        "    age = int(input(\"Enter your age: \"))\n",
        "    check_age(age)\n",
        "except ValueError:\n",
        "    print(\"Please enter a valid number for age.\")\n",
        "\n",
        "\n"
      ]
    },
    {
      "cell_type": "markdown",
      "metadata": {
        "id": "ge73KLrygUSr"
      },
      "source": [
        "21. Make a Custom Class Iterable\n",
        "Assignment:\n",
        "Create a class Countdown that takes a start number. Implement __iter__() and __next__() to make the object iterable in a for-loop, counting down to 0."
      ]
    },
    {
      "cell_type": "code",
      "execution_count": 3,
      "metadata": {
        "colab": {
          "base_uri": "https://localhost:8080/"
        },
        "id": "2hVSTudt8vDd",
        "outputId": "c0ddfa91-9dfd-4d4e-e121-13319a513e89"
      },
      "outputs": [
        {
          "output_type": "stream",
          "name": "stdout",
          "text": [
            "5\n",
            "4\n",
            "3\n",
            "2\n",
            "1\n",
            "0\n"
          ]
        }
      ],
      "source": [
        "class Countdown:\n",
        "  def __init__(self, start):\n",
        "    self.start = start # Set the starting number\n",
        "    self.current = start # Initialize current to the starting number\n",
        "\n",
        "  def __iter__ (self):\n",
        "    # Return the itwreator object itself\n",
        "     return self\n",
        "\n",
        "  def __next__(self):\n",
        "    if self.current < 0:\n",
        "        raise StopIteration\n",
        "    value = self.current\n",
        "    self.current -= 1\n",
        "    return value\n",
        "\n",
        "  # Return the number before decremrnting\n",
        "\n",
        "# Creating an object in a for loop\n",
        "countdown = Countdown(5)\n",
        "\n",
        "# Using the Countdown object in a for loop\n",
        "for number in countdown:\n",
        "    print(number)"
      ]
    }
  ],
  "metadata": {
    "colab": {
      "provenance": [],
      "authorship_tag": "ABX9TyPJZpN3L6bAMRvQKckZQVzT",
      "include_colab_link": true
    },
    "kernelspec": {
      "display_name": "Python 3",
      "name": "python3"
    },
    "language_info": {
      "name": "python"
    }
  },
  "nbformat": 4,
  "nbformat_minor": 0
}